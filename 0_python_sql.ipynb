{
 "cells": [
  {
   "cell_type": "code",
   "execution_count": 1,
   "metadata": {},
   "outputs": [],
   "source": [
    "import sqlite3\n",
    "import pandas as pd"
   ]
  },
  {
   "cell_type": "code",
   "execution_count": 2,
   "metadata": {},
   "outputs": [],
   "source": [
    "# Conexión a la base de datos\n",
    "db_path = \"./data/examen_bancario.db\"\n",
    "conn = sqlite3.connect(db_path)\n",
    "cursor = conn.cursor()"
   ]
  },
  {
   "cell_type": "code",
   "execution_count": 3,
   "metadata": {},
   "outputs": [
    {
     "name": "stdout",
     "output_type": "stream",
     "text": [
      "Tablas en la base de datos:\n",
      "- customers\n",
      "- accounts\n",
      "- transactions\n",
      "- loans\n",
      "- credit_cards\n"
     ]
    }
   ],
   "source": [
    "# Listar tablas disponibles\n",
    "print(\"Tablas en la base de datos:\")\n",
    "tables = cursor.execute(\"SELECT name FROM sqlite_master WHERE type='table';\").fetchall()\n",
    "for table in tables:\n",
    "    print(\"-\", table[0])"
   ]
  },
  {
   "cell_type": "code",
   "execution_count": 4,
   "metadata": {},
   "outputs": [
    {
     "name": "stdout",
     "output_type": "stream",
     "text": [
      "Tablas en la base de datos:\n",
      "- vista_1_clientes_argentina_post2018\n",
      "- vista_2_saldo_total_por_cliente\n",
      "- vista_3_clientes_mas_3_cuentas\n",
      "- vista_4_prestamos_activos\n",
      "- vista_7_clientes_sin_tarjeta_credito\n",
      "- vista_8_clientes_limite_credito_mayor_20000\n",
      "- vista_9_top2_cuentas_por_cliente\n",
      "- vista_10_clientes_prestamo_y_tarjeta_activos\n",
      "- vista_5_primer_y_ultimo_movimiento\n",
      "- vista_6_tipo_cuenta_mas_popular\n",
      "- vista_11_transacciones_duplicadas\n"
     ]
    }
   ],
   "source": [
    "# Listar tablas disponibles\n",
    "print(\"Tablas en la base de datos:\")\n",
    "tables = cursor.execute(\"SELECT name FROM sqlite_master WHERE type='view';\").fetchall()\n",
    "for table in tables:\n",
    "    print(\"-\", table[0])"
   ]
  },
  {
   "cell_type": "code",
   "execution_count": 5,
   "metadata": {},
   "outputs": [
    {
     "name": "stdout",
     "output_type": "stream",
     "text": [
      "\n",
      "Ejemplo de clientes:\n",
      "   customer_id first_name last_name                   email  country  \\\n",
      "0            1      Megan     Chang  greenwilliam@yahoo.com   Brazil   \n",
      "1            2      Tammy    Howard    juancampos@lloyd.org   Brazil   \n",
      "2            3       Kyle     Blair       wcastro@yahoo.com      USA   \n",
      "3            4     Cheryl    Durham       qgrimes@gmail.com  Germany   \n",
      "4            5    Sabrina     Davis  salazarmaria@yahoo.com    Japan   \n",
      "\n",
      "  registration_date  \n",
      "0        2020-06-24  \n",
      "1        2017-10-27  \n",
      "2        2020-09-12  \n",
      "3        2024-08-27  \n",
      "4        2019-06-21  \n"
     ]
    }
   ],
   "source": [
    "# Leer una tabla como DataFrame\n",
    "df_customers = pd.read_sql(\"SELECT * FROM customers LIMIT 5\", conn)\n",
    "print(\"\\nEjemplo de clientes:\")\n",
    "print(df_customers)"
   ]
  },
  {
   "cell_type": "code",
   "execution_count": 6,
   "metadata": {},
   "outputs": [
    {
     "name": "stdout",
     "output_type": "stream",
     "text": [
      "\n",
      "✅ Tabla 'top_accounts_by_balance' creada.\n",
      "\n",
      "Top cuentas por cliente:\n",
      "   customer_id first_name last_name  saldo_total\n",
      "0            1      Megan     Chang    211010.60\n",
      "1            2      Tammy    Howard    431494.90\n",
      "2            3       Kyle     Blair    622668.54\n",
      "3            4     Cheryl    Durham    490642.99\n",
      "4            5    Sabrina     Davis    578651.52\n",
      "5            6    Jessica   Padilla     97602.82\n",
      "6            7   Victoria    Golden    445375.58\n",
      "7            8     Marvin   Nielsen    184928.89\n",
      "8            9    Antonio    Zavala    274991.97\n",
      "9           10     Sandra     Kirby    531633.77\n"
     ]
    }
   ],
   "source": [
    "# Ejecutar una consulta y guardar como nueva tabla\n",
    "query = \"\"\"\n",
    "    CREATE TABLE IF NOT EXISTS table_saldo_total_por_cliente AS\n",
    "    SELECT * FROM vista_2_saldo_total_por_cliente\n",
    "\"\"\"\n",
    "cursor.executescript(query)\n",
    "conn.commit()\n",
    "print(\"\\n✅ Tabla 'top_accounts_by_balance' creada.\")\n",
    "\n",
    "# Mostrar contenido de la nueva tabla\n",
    "df_top_accounts = pd.read_sql(\"SELECT * FROM table_saldo_total_por_cliente LIMIT 10\", conn)\n",
    "print(\"\\nTop cuentas por cliente:\")\n",
    "print(df_top_accounts)"
   ]
  },
  {
   "cell_type": "code",
   "execution_count": 7,
   "metadata": {},
   "outputs": [],
   "source": [
    "# Cerrar conexión\n",
    "conn.close()"
   ]
  },
  {
   "cell_type": "code",
   "execution_count": null,
   "metadata": {},
   "outputs": [],
   "source": []
  }
 ],
 "metadata": {
  "kernelspec": {
   "display_name": "ETL---Clase-7-_eFqWzz9",
   "language": "python",
   "name": "python3"
  },
  "language_info": {
   "codemirror_mode": {
    "name": "ipython",
    "version": 3
   },
   "file_extension": ".py",
   "mimetype": "text/x-python",
   "name": "python",
   "nbconvert_exporter": "python",
   "pygments_lexer": "ipython3",
   "version": "3.13.2"
  }
 },
 "nbformat": 4,
 "nbformat_minor": 2
}
