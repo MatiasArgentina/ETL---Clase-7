{
  "cells": [
    {
      "cell_type": "code",
      "execution_count": null,
      "metadata": {
        "colab": {
          "base_uri": "https://localhost:8080/"
        },
        "id": "kH2pZDGs8GLT",
        "outputId": "0a790e06-1262-4f84-a181-09f08db19c77"
      },
      "outputs": [],
      "source": [
        "# previamente se  instala las siguientes librerias \"yfinance\" y \"google-cloud-storage\""
      ]
    },
    {
      "cell_type": "code",
      "execution_count": null,
      "metadata": {
        "id": "sRISs0cH-l50"
      },
      "outputs": [],
      "source": [
        "# librería para descargar con yahoo finance\n",
        "import yfinance as yf\n",
        "# librería para manipular dataframes\n",
        "import pandas as pd\n",
        "# librería para manipular fechas\n",
        "import datetime as dt\n",
        "# librería para conectar a Google Cloud Platform\n",
        "from google.cloud import storage"
      ]
    },
    {
      "cell_type": "code",
      "execution_count": null,
      "metadata": {
        "id": "u-QUSDyEJWPs"
      },
      "outputs": [],
      "source": [
        "# Diccionario con las empresas de las que se traen los datos\n",
        "dict_Empresas = {\n",
        "    \"Apple\": \"AAPL\",\n",
        "    \"Microsoft\": \"MSFT\",\n",
        "    \"Meta\": \"META\",\n",
        "    \"Tesla\": \"TSLA\",\n",
        "\n",
        "    # Algunas sugerencias:\n",
        "    \n",
        "    #\"Alphabet\": \"GOOGL\",\n",
        "    #\"Amazon\": \"AMZN\",\n",
        "    #\"JPMorgan\": \"JPM\",\n",
        "    #\"Johnson & Johnson\": \"JNJ\",\n",
        "    #\"Walmart\": \"WMT\"\n",
        "    }"
      ]
    },
    {
      "cell_type": "code",
      "execution_count": null,
      "metadata": {
        "id": "l_tkEsbWDusy"
      },
      "outputs": [],
      "source": [
        "# Conexión con la plataforma de Google\n",
        "storage_client = storage.Client.from_service_account_json(r'clave_consultora.json')\n",
        "\n",
        "# Conexión con el bucket\n",
        "bucket = storage_client.get_bucket('entrada')"
      ]
    },
    {
      "cell_type": "code",
      "execution_count": null,
      "metadata": {
        "colab": {
          "base_uri": "https://localhost:8080/"
        },
        "id": "rCNArHJtENTV",
        "outputId": "42e874e6-96b2-4c22-a5c2-ef3b74a33065"
      },
      "outputs": [
        {
          "name": "stdout",
          "output_type": "stream",
          "text": [
            "[*********************100%***********************]  1 of 1 completed\n",
            "[*********************100%***********************]  1 of 1 completed\n",
            "[*********************100%***********************]  1 of 1 completed\n",
            "[*********************100%***********************]  1 of 1 completed\n",
            "[*********************100%***********************]  1 of 1 completed\n",
            "[*********************100%***********************]  1 of 1 completed\n",
            "[*********************100%***********************]  1 of 1 completed\n",
            "[*********************100%***********************]  1 of 1 completed\n",
            "[*********************100%***********************]  1 of 1 completed\n"
          ]
        }
      ],
      "source": [
        "# Mediante un bucle, se toman los datos de cada empresa y se guardan en la carpeta Datasets\n",
        "# Cada key es el nombre de la empresa, y value es la abreviación para tomar los datos desde finance\n",
        "for key, value in dict_Empresas.items():\n",
        "    # Se descargan los datos desde 01/01/23 hasta hoy\n",
        "    Dataset = yf.download(value, start = dt.date(2023,1,1), end = dt.date.today())\n",
        "\n",
        "    # Se guardan en un archivo con el nombre de la empresa\n",
        "    Dataset.to_csv(f\"Datasets/{key}.csv\")\n",
        "\n",
        "    # Ruta y archivo dentro del bucket donde se van a subir el dataset\n",
        "    blob = bucket.blob(f'{key}.csv')\n",
        "    \n",
        "    # Ruta de donde se lee el archivo para enviar\n",
        "    blob.upload_from_filename(f\"Datasets/{key}.csv\")\n",
        "\n",
        "    # Se imprime en pantalla un mensaje de confirmacion\n",
        "    print(f\"Archivo {key} cargado exitosamente.\")"
      ]
    }
  ],
  "metadata": {
    "colab": {
      "provenance": []
    },
    "kernelspec": {
      "display_name": "Python 3",
      "language": "python",
      "name": "python3"
    },
    "language_info": {
      "name": "python",
      "version": "3.10.5"
    },
    "vscode": {
      "interpreter": {
        "hash": "270c9063d07a28851ba69880084a5f01ac42db4cf4cee14f4c49c73ecb745236"
      }
    }
  },
  "nbformat": 4,
  "nbformat_minor": 0
}
